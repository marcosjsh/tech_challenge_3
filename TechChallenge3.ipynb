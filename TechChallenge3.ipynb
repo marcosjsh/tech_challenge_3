{
  "nbformat": 4,
  "nbformat_minor": 0,
  "metadata": {
    "colab": {
      "provenance": [],
      "authorship_tag": "ABX9TyNevk+UWf9lJjaYO5B6afV7",
      "include_colab_link": true
    },
    "kernelspec": {
      "name": "python3",
      "display_name": "Python 3"
    },
    "language_info": {
      "name": "python"
    }
  },
  "cells": [
    {
      "cell_type": "markdown",
      "metadata": {
        "id": "view-in-github",
        "colab_type": "text"
      },
      "source": [
        "<a href=\"https://colab.research.google.com/github/marcosjsh/tech_challenge_3/blob/main/TechChallenge3.ipynb\" target=\"_parent\"><img src=\"https://colab.research.google.com/assets/colab-badge.svg\" alt=\"Open In Colab\"/></a>"
      ]
    },
    {
      "cell_type": "code",
      "execution_count": 17,
      "metadata": {
        "colab": {
          "base_uri": "https://localhost:8080/"
        },
        "id": "NKZWY9INxyyr",
        "outputId": "36aea7b5-70e4-4547-9380-3e110ee066af"
      },
      "outputs": [
        {
          "output_type": "stream",
          "name": "stdout",
          "text": [
            "Drive already mounted at /content/drive; to attempt to forcibly remount, call drive.mount(\"/content/drive\", force_remount=True).\n"
          ]
        }
      ],
      "source": [
        "from google.colab import drive\n",
        "drive.mount('/content/drive')"
      ]
    },
    {
      "cell_type": "code",
      "source": [
        "import pandas as pd"
      ],
      "metadata": {
        "id": "NIdrgoqrx_m6"
      },
      "execution_count": 18,
      "outputs": []
    },
    {
      "cell_type": "code",
      "source": [
        "file_path = '/content/drive/MyDrive/Colab Notebooks/tech_challenge_3/trn.json'"
      ],
      "metadata": {
        "id": "1aVjNRvVyJ8_"
      },
      "execution_count": 19,
      "outputs": []
    },
    {
      "cell_type": "code",
      "source": [
        "chunk_size = 100000\n",
        "chunks = pd.read_json(file_path, chunksize=chunk_size, lines=True)"
      ],
      "metadata": {
        "id": "9bC2b428zm6o"
      },
      "execution_count": 20,
      "outputs": []
    },
    {
      "cell_type": "code",
      "source": [
        "data_chunks = []\n",
        "\n",
        "for chunk in chunks:\n",
        "  data_chunks.append(chunk)\n",
        "\n",
        "df = pd.concat(data_chunks, ignore_index=True)\n",
        "\n",
        "print(df.count())"
      ],
      "metadata": {
        "colab": {
          "base_uri": "https://localhost:8080/"
        },
        "id": "HTI3CR7-yV23",
        "outputId": "a3f0c53f-3a58-408b-f1e6-f1d16ed7eafd"
      },
      "execution_count": 21,
      "outputs": [
        {
          "output_type": "stream",
          "name": "stdout",
          "text": [
            "uid           2248619\n",
            "title         2248619\n",
            "content       2248619\n",
            "target_ind    2248619\n",
            "target_rel    2248619\n",
            "dtype: int64\n"
          ]
        }
      ]
    },
    {
      "cell_type": "code",
      "source": [
        "df = df[['title', 'content']]\n",
        "\n",
        "print(df.head())"
      ],
      "metadata": {
        "colab": {
          "base_uri": "https://localhost:8080/"
        },
        "id": "fOGV3RpW1_4h",
        "outputId": "4d8d85e9-2a30-467b-b0a0-c6d0df5fe339"
      },
      "execution_count": 22,
      "outputs": [
        {
          "output_type": "stream",
          "name": "stdout",
          "text": [
            "                                               title  \\\n",
            "0                        Girls Ballet Tutu Neon Pink   \n",
            "1                           Adult Ballet Tutu Yellow   \n",
            "2  The Way Things Work: An Illustrated Encycloped...   \n",
            "3                                      Mog's Kittens   \n",
            "4                              Misty of Chincoteague   \n",
            "\n",
            "                                             content  \n",
            "0  High quality 3 layer ballet tutu. 12 inches in...  \n",
            "1                                                     \n",
            "2                                                     \n",
            "3  Judith Kerr&#8217;s best&#8211;selling adventu...  \n",
            "4                                                     \n"
          ]
        }
      ]
    },
    {
      "cell_type": "code",
      "source": [
        "df = df.dropna(subset=['content'])\n",
        "df = df[df['content'].str.strip() != '']\n",
        "\n",
        "print(df.count())"
      ],
      "metadata": {
        "colab": {
          "base_uri": "https://localhost:8080/"
        },
        "id": "jZz0g1Yc2afM",
        "outputId": "6f075f2f-1c67-40a0-b050-5fc7ea1671dd"
      },
      "execution_count": 23,
      "outputs": [
        {
          "output_type": "stream",
          "name": "stdout",
          "text": [
            "title      1498718\n",
            "content    1498718\n",
            "dtype: int64\n"
          ]
        }
      ]
    },
    {
      "cell_type": "code",
      "source": [
        "df = df.dropna(subset=['title'])\n",
        "df = df[df['title'].str.strip() != '']\n",
        "\n",
        "print(df.count())"
      ],
      "metadata": {
        "colab": {
          "base_uri": "https://localhost:8080/"
        },
        "id": "k3Rg9asZ9qCS",
        "outputId": "8107177a-5c85-4066-dc12-6622d8a88e32"
      },
      "execution_count": 24,
      "outputs": [
        {
          "output_type": "stream",
          "name": "stdout",
          "text": [
            "title      1390403\n",
            "content    1390403\n",
            "dtype: int64\n"
          ]
        }
      ]
    },
    {
      "cell_type": "code",
      "source": [
        "df = df.drop_duplicates()\n",
        "\n",
        "print(df.count())"
      ],
      "metadata": {
        "colab": {
          "base_uri": "https://localhost:8080/"
        },
        "id": "7Sgr60H42yEz",
        "outputId": "ba65edc6-ff5f-4e2c-bf75-83ffc4516d5b"
      },
      "execution_count": 25,
      "outputs": [
        {
          "output_type": "stream",
          "name": "stdout",
          "text": [
            "title      1367131\n",
            "content    1367131\n",
            "dtype: int64\n"
          ]
        }
      ]
    }
  ]
}