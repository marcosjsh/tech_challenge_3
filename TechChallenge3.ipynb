{
  "nbformat": 4,
  "nbformat_minor": 0,
  "metadata": {
    "colab": {
      "provenance": [],
      "authorship_tag": "ABX9TyO8JIaxNiKSfsmmavgNuDIw",
      "include_colab_link": true
    },
    "kernelspec": {
      "name": "python3",
      "display_name": "Python 3"
    },
    "language_info": {
      "name": "python"
    }
  },
  "cells": [
    {
      "cell_type": "markdown",
      "metadata": {
        "id": "view-in-github",
        "colab_type": "text"
      },
      "source": [
        "<a href=\"https://colab.research.google.com/github/marcosjsh/tech_challenge_3/blob/main/TechChallenge3.ipynb\" target=\"_parent\"><img src=\"https://colab.research.google.com/assets/colab-badge.svg\" alt=\"Open In Colab\"/></a>"
      ]
    },
    {
      "cell_type": "code",
      "execution_count": 1,
      "metadata": {
        "colab": {
          "base_uri": "https://localhost:8080/"
        },
        "id": "NKZWY9INxyyr",
        "outputId": "d5d674dd-5d82-456f-cf1d-a107d78bc16c"
      },
      "outputs": [
        {
          "output_type": "stream",
          "name": "stdout",
          "text": [
            "Mounted at /content/drive\n"
          ]
        }
      ],
      "source": [
        "from google.colab import drive\n",
        "drive.mount('/content/drive')"
      ]
    },
    {
      "cell_type": "code",
      "source": [
        "import pandas as pd"
      ],
      "metadata": {
        "id": "NIdrgoqrx_m6"
      },
      "execution_count": 2,
      "outputs": []
    },
    {
      "cell_type": "code",
      "source": [
        "file_path = '/content/drive/MyDrive/Colab Notebooks/tech_challenge_3/trn.json'"
      ],
      "metadata": {
        "id": "1aVjNRvVyJ8_"
      },
      "execution_count": 3,
      "outputs": []
    },
    {
      "cell_type": "code",
      "source": [
        "chunk_size = 100000\n",
        "chunks = pd.read_json(file_path, chunksize=chunk_size, lines=True)"
      ],
      "metadata": {
        "id": "9bC2b428zm6o"
      },
      "execution_count": 4,
      "outputs": []
    },
    {
      "cell_type": "code",
      "source": [
        "data_chunks = []\n",
        "\n",
        "for chunk in chunks:\n",
        "  data_chunks.append(chunk)\n",
        "\n",
        "df = pd.concat(data_chunks, ignore_index=True)\n",
        "\n",
        "print(df.count())"
      ],
      "metadata": {
        "colab": {
          "base_uri": "https://localhost:8080/"
        },
        "id": "HTI3CR7-yV23",
        "outputId": "84db973c-a765-49bc-fc8f-8f716ac284eb"
      },
      "execution_count": 5,
      "outputs": [
        {
          "output_type": "stream",
          "name": "stdout",
          "text": [
            "uid           2248619\n",
            "title         2248619\n",
            "content       2248619\n",
            "target_ind    2248619\n",
            "target_rel    2248619\n",
            "dtype: int64\n"
          ]
        }
      ]
    },
    {
      "cell_type": "code",
      "source": [
        "df = df[['title', 'content']]\n",
        "\n",
        "print(df.head())"
      ],
      "metadata": {
        "colab": {
          "base_uri": "https://localhost:8080/"
        },
        "id": "fOGV3RpW1_4h",
        "outputId": "d018e55a-0a8f-450e-db8e-16ec8168d9f1"
      },
      "execution_count": 6,
      "outputs": [
        {
          "output_type": "stream",
          "name": "stdout",
          "text": [
            "                                               title  \\\n",
            "0                        Girls Ballet Tutu Neon Pink   \n",
            "1                           Adult Ballet Tutu Yellow   \n",
            "2  The Way Things Work: An Illustrated Encycloped...   \n",
            "3                                      Mog's Kittens   \n",
            "4                              Misty of Chincoteague   \n",
            "\n",
            "                                             content  \n",
            "0  High quality 3 layer ballet tutu. 12 inches in...  \n",
            "1                                                     \n",
            "2                                                     \n",
            "3  Judith Kerr&#8217;s best&#8211;selling adventu...  \n",
            "4                                                     \n"
          ]
        }
      ]
    },
    {
      "cell_type": "code",
      "source": [
        "df = df.dropna(subset=['content'])\n",
        "df = df[df['content'].str.strip() != '']\n",
        "\n",
        "print(df.count())"
      ],
      "metadata": {
        "colab": {
          "base_uri": "https://localhost:8080/"
        },
        "id": "jZz0g1Yc2afM",
        "outputId": "653f2718-bd7e-4f2d-91cd-5b074a7ed858"
      },
      "execution_count": 8,
      "outputs": [
        {
          "output_type": "stream",
          "name": "stdout",
          "text": [
            "title      1498718\n",
            "content    1498718\n",
            "dtype: int64\n"
          ]
        }
      ]
    },
    {
      "cell_type": "code",
      "source": [
        "df = df.drop_duplicates()\n",
        "\n",
        "print(df.count())"
      ],
      "metadata": {
        "colab": {
          "base_uri": "https://localhost:8080/"
        },
        "id": "7Sgr60H42yEz",
        "outputId": "0f369c4d-4828-4e66-8ec5-b47ed62fba18"
      },
      "execution_count": 9,
      "outputs": [
        {
          "output_type": "stream",
          "name": "stdout",
          "text": [
            "title      1467983\n",
            "content    1467983\n",
            "dtype: int64\n"
          ]
        }
      ]
    },
    {
      "cell_type": "code",
      "source": [],
      "metadata": {
        "id": "1YQF0zKT24Vv"
      },
      "execution_count": null,
      "outputs": []
    }
  ]
}