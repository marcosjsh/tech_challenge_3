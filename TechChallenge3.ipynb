{
  "nbformat": 4,
  "nbformat_minor": 0,
  "metadata": {
    "colab": {
      "provenance": [],
      "authorship_tag": "ABX9TyMpiM9DW3mrsLHxV/xcx6nY",
      "include_colab_link": true
    },
    "kernelspec": {
      "name": "python3",
      "display_name": "Python 3"
    },
    "language_info": {
      "name": "python"
    }
  },
  "cells": [
    {
      "cell_type": "markdown",
      "metadata": {
        "id": "view-in-github",
        "colab_type": "text"
      },
      "source": [
        "<a href=\"https://colab.research.google.com/github/marcosjsh/tech_challenge_3/blob/main/TechChallenge3.ipynb\" target=\"_parent\"><img src=\"https://colab.research.google.com/assets/colab-badge.svg\" alt=\"Open In Colab\"/></a>"
      ]
    },
    {
      "cell_type": "markdown",
      "source": [
        "# **1 - Carregando o Dataset**"
      ],
      "metadata": {
        "id": "4RBcXX37zLNv"
      }
    },
    {
      "cell_type": "markdown",
      "source": [
        "Devido ao fato de o dataset ser muito grande, vamos carregá-lo em partes para evitar problemas como falta de recursos no sistema do Colab"
      ],
      "metadata": {
        "id": "fODzmHW2zRDk"
      }
    },
    {
      "cell_type": "code",
      "execution_count": 1,
      "metadata": {
        "colab": {
          "base_uri": "https://localhost:8080/"
        },
        "id": "NKZWY9INxyyr",
        "outputId": "49903744-4805-44d5-e588-67931ff8c969"
      },
      "outputs": [
        {
          "output_type": "stream",
          "name": "stdout",
          "text": [
            "Mounted at /content/drive\n"
          ]
        }
      ],
      "source": [
        "from google.colab import drive\n",
        "drive.mount('/content/drive')"
      ]
    },
    {
      "cell_type": "code",
      "source": [
        "import pandas as pd"
      ],
      "metadata": {
        "id": "NIdrgoqrx_m6"
      },
      "execution_count": 2,
      "outputs": []
    },
    {
      "cell_type": "code",
      "source": [
        "file_path = '/content/drive/MyDrive/Colab Notebooks/tech_challenge_3/trn.json'"
      ],
      "metadata": {
        "id": "1aVjNRvVyJ8_"
      },
      "execution_count": 3,
      "outputs": []
    },
    {
      "cell_type": "code",
      "source": [
        "chunk_size = 100000\n",
        "chunks = pd.read_json(file_path, chunksize=chunk_size, lines=True)"
      ],
      "metadata": {
        "id": "9bC2b428zm6o"
      },
      "execution_count": 4,
      "outputs": []
    },
    {
      "cell_type": "code",
      "source": [
        "data_chunks = []\n",
        "\n",
        "for chunk in chunks:\n",
        "  data_chunks.append(chunk)\n",
        "\n",
        "df = pd.concat(data_chunks, ignore_index=True)"
      ],
      "metadata": {
        "id": "HTI3CR7-yV23"
      },
      "execution_count": 5,
      "outputs": []
    },
    {
      "cell_type": "markdown",
      "source": [
        "# **2 - Analisando o Dataset**"
      ],
      "metadata": {
        "id": "8FWFow8Yzg7H"
      }
    },
    {
      "cell_type": "markdown",
      "source": [
        "Vamos verificar a quantidade de linhas e quais as colunas dp dataset\n"
      ],
      "metadata": {
        "id": "uXNBuRdEzt8P"
      }
    },
    {
      "cell_type": "code",
      "source": [
        "print(df.count())"
      ],
      "metadata": {
        "id": "Rz4DVEZQzfQ6",
        "outputId": "8c2a15f9-4fee-4631-cec4-b7f89661cc39",
        "colab": {
          "base_uri": "https://localhost:8080/"
        }
      },
      "execution_count": 6,
      "outputs": [
        {
          "output_type": "stream",
          "name": "stdout",
          "text": [
            "uid           2248619\n",
            "title         2248619\n",
            "content       2248619\n",
            "target_ind    2248619\n",
            "target_rel    2248619\n",
            "dtype: int64\n"
          ]
        }
      ]
    },
    {
      "cell_type": "code",
      "source": [
        "print(df.head())"
      ],
      "metadata": {
        "id": "sFsiQhuU0YN0",
        "outputId": "7899cc8c-6e76-4f83-faa6-54b9cd4c66d4",
        "colab": {
          "base_uri": "https://localhost:8080/"
        }
      },
      "execution_count": 7,
      "outputs": [
        {
          "output_type": "stream",
          "name": "stdout",
          "text": [
            "          uid                                              title  \\\n",
            "0  0000031909                        Girls Ballet Tutu Neon Pink   \n",
            "1  0000032034                           Adult Ballet Tutu Yellow   \n",
            "2  0000913154  The Way Things Work: An Illustrated Encycloped...   \n",
            "3  0001360000                                      Mog's Kittens   \n",
            "4  0001381245                              Misty of Chincoteague   \n",
            "\n",
            "                                             content  \\\n",
            "0  High quality 3 layer ballet tutu. 12 inches in...   \n",
            "1                                                      \n",
            "2                                                      \n",
            "3  Judith Kerr&#8217;s best&#8211;selling adventu...   \n",
            "4                                                      \n",
            "\n",
            "                                          target_ind  \\\n",
            "0  [12, 13, 14, 15, 16, 17, 18, 19, 20, 21, 22, 2...   \n",
            "1  [0, 1, 2, 3, 4, 5, 6, 7, 8, 9, 16, 33, 36, 37,...   \n",
            "2                [116, 117, 118, 119, 120, 121, 122]   \n",
            "3                          [146, 147, 148, 149, 495]   \n",
            "4                                              [151]   \n",
            "\n",
            "                                          target_rel  \n",
            "0  [1.0, 1.0, 1.0, 1.0, 1.0, 1.0, 1.0, 1.0, 1.0, ...  \n",
            "1  [1.0, 1.0, 1.0, 1.0, 1.0, 1.0, 1.0, 1.0, 1.0, ...  \n",
            "2                [1.0, 1.0, 1.0, 1.0, 1.0, 1.0, 1.0]  \n",
            "3                          [1.0, 1.0, 1.0, 1.0, 1.0]  \n",
            "4                                              [1.0]  \n"
          ]
        }
      ]
    },
    {
      "cell_type": "markdown",
      "source": [
        "Como iremos utilizar apenas as colunas 'title' e 'content', vamos remover as demais colunas"
      ],
      "metadata": {
        "id": "pwVugq4g0ai5"
      }
    },
    {
      "cell_type": "code",
      "source": [
        "df = df[['title', 'content']]"
      ],
      "metadata": {
        "id": "fOGV3RpW1_4h"
      },
      "execution_count": 8,
      "outputs": []
    },
    {
      "cell_type": "code",
      "source": [
        "print(df.count())"
      ],
      "metadata": {
        "id": "70e6bT9r0jZr",
        "outputId": "cde617b0-ac24-4f59-ff7d-84d16c6b7873",
        "colab": {
          "base_uri": "https://localhost:8080/"
        }
      },
      "execution_count": 9,
      "outputs": [
        {
          "output_type": "stream",
          "name": "stdout",
          "text": [
            "title      2248619\n",
            "content    2248619\n",
            "dtype: int64\n"
          ]
        }
      ]
    },
    {
      "cell_type": "markdown",
      "source": [
        "Vamos remover as linhas em que 'content' está vazio pois não será possível fazer inferência posteriormente se não houver conteúdo"
      ],
      "metadata": {
        "id": "_m7RqyY60l7I"
      }
    },
    {
      "cell_type": "code",
      "source": [
        "df = df.dropna(subset=['content'])\n",
        "df = df[df['content'].str.strip() != '']\n",
        "\n",
        "print(df.count())"
      ],
      "metadata": {
        "colab": {
          "base_uri": "https://localhost:8080/"
        },
        "id": "jZz0g1Yc2afM",
        "outputId": "9248d2ce-dc09-4050-b47d-ab73a62961b6"
      },
      "execution_count": 10,
      "outputs": [
        {
          "output_type": "stream",
          "name": "stdout",
          "text": [
            "title      1498718\n",
            "content    1498718\n",
            "dtype: int64\n"
          ]
        }
      ]
    },
    {
      "cell_type": "markdown",
      "source": [
        "Vamos remover também as linhas em que 'title' está vazio pois não será possível atrelar a descrição a um produto"
      ],
      "metadata": {
        "id": "0Iwaqdak0w0l"
      }
    },
    {
      "cell_type": "code",
      "source": [
        "df = df.dropna(subset=['title'])\n",
        "df = df[df['title'].str.strip() != '']\n",
        "\n",
        "print(df.count())"
      ],
      "metadata": {
        "colab": {
          "base_uri": "https://localhost:8080/"
        },
        "id": "k3Rg9asZ9qCS",
        "outputId": "cbcc4bab-8f87-4a3b-d48c-d9c0c2a034ea"
      },
      "execution_count": 11,
      "outputs": [
        {
          "output_type": "stream",
          "name": "stdout",
          "text": [
            "title      1390403\n",
            "content    1390403\n",
            "dtype: int64\n"
          ]
        }
      ]
    },
    {
      "cell_type": "markdown",
      "source": [
        "Vamos remover as linhas duplicadas"
      ],
      "metadata": {
        "id": "9rcnZ2TC06eu"
      }
    },
    {
      "cell_type": "code",
      "source": [
        "df = df.drop_duplicates()\n",
        "\n",
        "print(df.count())"
      ],
      "metadata": {
        "colab": {
          "base_uri": "https://localhost:8080/"
        },
        "id": "7Sgr60H42yEz",
        "outputId": "c750d5b7-fb8e-4aa2-f673-d413420c3a27"
      },
      "execution_count": 12,
      "outputs": [
        {
          "output_type": "stream",
          "name": "stdout",
          "text": [
            "title      1367131\n",
            "content    1367131\n",
            "dtype: int64\n"
          ]
        }
      ]
    },
    {
      "cell_type": "markdown",
      "source": [
        "Vamos salvar o dataset limpo para usar posteriormente sem a necessidade de passar pelo processo de limpeza a cada vez que o script precisar ser executado\n"
      ],
      "metadata": {
        "id": "OyB416_M0-oz"
      }
    },
    {
      "cell_type": "code",
      "source": [
        "output_path = '/content/drive/MyDrive/Colab Notebooks/tech_challenge_3/trn_clean.json'"
      ],
      "metadata": {
        "id": "WqE9q3B11HrU"
      },
      "execution_count": 13,
      "outputs": []
    },
    {
      "cell_type": "code",
      "source": [
        "df.to_json(output_path, orient='records', lines=True)"
      ],
      "metadata": {
        "id": "aa999nMr1mE9"
      },
      "execution_count": 14,
      "outputs": []
    }
  ]
}